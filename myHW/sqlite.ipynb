{
 "cells": [
  {
   "cell_type": "code",
   "execution_count": 1,
   "id": "1e5ffd77",
   "metadata": {},
   "outputs": [],
   "source": [
    "import sqlite3\n",
    "from sqlite3 import Error"
   ]
  },
  {
   "cell_type": "code",
   "execution_count": 2,
   "id": "c1d5ddd5",
   "metadata": {},
   "outputs": [
    {
     "ename": "OperationalError",
     "evalue": "table Book already exists",
     "output_type": "error",
     "traceback": [
      "\u001b[1;31m---------------------------------------------------------------------------\u001b[0m",
      "\u001b[1;31mOperationalError\u001b[0m                          Traceback (most recent call last)",
      "Input \u001b[1;32mIn [2]\u001b[0m, in \u001b[0;36m<cell line: 4>\u001b[1;34m()\u001b[0m\n\u001b[0;32m      1\u001b[0m connection \u001b[38;5;241m=\u001b[39m sqlite3\u001b[38;5;241m.\u001b[39mconnect(\u001b[38;5;124m'\u001b[39m\u001b[38;5;124mlib\u001b[39m\u001b[38;5;124m'\u001b[39m)\n\u001b[0;32m      3\u001b[0m cursor \u001b[38;5;241m=\u001b[39m connection\u001b[38;5;241m.\u001b[39mcursor()\n\u001b[1;32m----> 4\u001b[0m \u001b[43mcursor\u001b[49m\u001b[38;5;241;43m.\u001b[39;49m\u001b[43mexecute\u001b[49m\u001b[43m(\u001b[49m\n\u001b[0;32m      5\u001b[0m \u001b[43m    \u001b[49m\u001b[38;5;124;43;03m'''\u001b[39;49;00m\n\u001b[0;32m      6\u001b[0m \u001b[38;5;124;43;03m    CREATE TABLE Book(\u001b[39;49;00m\n\u001b[0;32m      7\u001b[0m \u001b[38;5;124;43;03m        id INT PRIMARY KEY NOT NULL,\u001b[39;49;00m\n\u001b[0;32m      8\u001b[0m \u001b[38;5;124;43;03m        title TEXT,\u001b[39;49;00m\n\u001b[0;32m      9\u001b[0m \u001b[38;5;124;43;03m        author TEXT,\u001b[39;49;00m\n\u001b[0;32m     10\u001b[0m \u001b[38;5;124;43;03m        publish_year INT\u001b[39;49;00m\n\u001b[0;32m     11\u001b[0m \u001b[38;5;124;43;03m    )\u001b[39;49;00m\n\u001b[0;32m     12\u001b[0m \u001b[38;5;124;43;03m    '''\u001b[39;49;00m\n\u001b[0;32m     13\u001b[0m \u001b[43m)\u001b[49m\n\u001b[0;32m     15\u001b[0m cursor\u001b[38;5;241m.\u001b[39mexecute(\n\u001b[0;32m     16\u001b[0m     \u001b[38;5;124;03m'''\u001b[39;00m\n\u001b[0;32m     17\u001b[0m \u001b[38;5;124;03m    INSERT INTO Book VALUES\u001b[39;00m\n\u001b[1;32m   (...)\u001b[0m\n\u001b[0;32m     23\u001b[0m \u001b[38;5;124;03m    '''\u001b[39;00m\n\u001b[0;32m     24\u001b[0m )\n",
      "\u001b[1;31mOperationalError\u001b[0m: table Book already exists"
     ]
    }
   ],
   "source": [
    "connection = sqlite3.connect('lib')\n",
    "\n",
    "cursor = connection.cursor()\n",
    "cursor.execute(\n",
    "    '''\n",
    "    CREATE TABLE Book(\n",
    "        id INT PRIMARY KEY NOT NULL,\n",
    "        title TEXT,\n",
    "        author TEXT,\n",
    "        publish_year INT\n",
    "    )\n",
    "    '''\n",
    ")\n",
    "\n",
    "cursor.execute(\n",
    "    '''\n",
    "    INSERT INTO Book VALUES\n",
    "    (1, 'Война и мир', 'Л. Н. Толстой', 1867),\n",
    "    (2, 'Pride and Prejudice', 'Jane Austen', 1813),\n",
    "    (3, 'Dune', 'Franklin Patrick Herbert', 1965),\n",
    "    (4, 'Преступление и наказание', 'Ф. М. Достоевский', 1866),\n",
    "    (5, 'Harry Potter and the Philosopher Stone', 'Joanne Rowling', 1997)\n",
    "    '''\n",
    ")"
   ]
  },
  {
   "cell_type": "code",
   "execution_count": 3,
   "id": "50cac298",
   "metadata": {},
   "outputs": [
    {
     "data": {
      "text/plain": [
       "<sqlite3.Cursor at 0x1f7fac91030>"
      ]
     },
     "execution_count": 3,
     "metadata": {},
     "output_type": "execute_result"
    }
   ],
   "source": [
    "cursor.execute(\n",
    "    '''\n",
    "    CREATE TABLE Reader(\n",
    "        id INT PRIMARY KEY NOT NULL,\n",
    "        name TEXT\n",
    "    )\n",
    "    '''\n",
    ")\n",
    "\n",
    "cursor.execute(\n",
    "    '''\n",
    "    INSERT INTO Reader VALUES\n",
    "    (1, 'Yana'),\n",
    "    (2, 'Yuri Dud'),\n",
    "    (3, 'A. S. Pushkin'),\n",
    "    (4, 'Opra Winfrey'),\n",
    "    (5, 'Nastya')\n",
    "    '''\n",
    ")"
   ]
  },
  {
   "cell_type": "code",
   "execution_count": 6,
   "id": "3b937ad0",
   "metadata": {},
   "outputs": [
    {
     "data": {
      "text/plain": [
       "<sqlite3.Cursor at 0x1f7fac91030>"
      ]
     },
     "execution_count": 6,
     "metadata": {},
     "output_type": "execute_result"
    }
   ],
   "source": [
    "cursor.execute(   \n",
    "    '''\n",
    "    CREATE TABLE Records(\n",
    "        id INT PRIMARY KEY NOT NULL,\n",
    "        reader_id INT REFERENCES Readers(id) NOT NULL,\n",
    "        book_id INT REFERENCES Books(id) NOT NULL,\n",
    "        taking_date TEXT,\n",
    "        returning_date TEXT\n",
    "    )\n",
    "    '''\n",
    ")\n",
    "\n",
    "cursor.execute(\n",
    "    '''\n",
    "    INSERT INTO Records VALUES\n",
    "    (1, 3, 4, '1842-02-14', '1842-07-01'),\n",
    "    (2, 4, 4, '1996-10-26', 'NULL'),\n",
    "    (3, 1, 2, '2006-06-13', '2006-06-14'),\n",
    "    (4, 1, 1, '2006-06-14', '2006-06-15'),\n",
    "    (5, 1, 3, '2006-06-15', '2006-07-20'),\n",
    "    (6, 2, 5, '1985-10-11', '1987-12-25'),\n",
    "    (7, 5, 3, '2001-03-15', 'NULL'),\n",
    "    (8, 5, 3, '2002-09-19', '2002-09-25')\n",
    "    '''\n",
    ")"
   ]
  },
  {
   "cell_type": "code",
   "execution_count": 16,
   "id": "9743e44e",
   "metadata": {},
   "outputs": [
    {
     "ename": "ProgrammingError",
     "evalue": "Cannot operate on a closed database.",
     "output_type": "error",
     "traceback": [
      "\u001b[1;31m---------------------------------------------------------------------------\u001b[0m",
      "\u001b[1;31mProgrammingError\u001b[0m                          Traceback (most recent call last)",
      "Input \u001b[1;32mIn [16]\u001b[0m, in \u001b[0;36m<cell line: 1>\u001b[1;34m()\u001b[0m\n\u001b[1;32m----> 1\u001b[0m \u001b[43mconnection\u001b[49m\u001b[38;5;241;43m.\u001b[39;49m\u001b[43mcommit\u001b[49m\u001b[43m(\u001b[49m\u001b[43m)\u001b[49m\n\u001b[0;32m      2\u001b[0m connection\u001b[38;5;241m.\u001b[39mclose()\n",
      "\u001b[1;31mProgrammingError\u001b[0m: Cannot operate on a closed database."
     ]
    }
   ],
   "source": [
    "connection.commit()\n",
    "connection.close()"
   ]
  },
  {
   "cell_type": "code",
   "execution_count": 17,
   "id": "f438fa09",
   "metadata": {},
   "outputs": [
    {
     "name": "stdout",
     "output_type": "stream",
     "text": [
      "('Доктор Живаго',)\n"
     ]
    }
   ],
   "source": [
    "def book_selecter():\n",
    "    connection = sqlite3.connect(\"lib\")\n",
    "    with connection:\n",
    "        for row in connection.execute(\"SELECT title FROM Book\"):\n",
    "            print(row)\n",
    "            \n",
    "book_selecter()"
   ]
  },
  {
   "cell_type": "code",
   "execution_count": 18,
   "id": "fc9c5c4f",
   "metadata": {},
   "outputs": [
    {
     "name": "stdout",
     "output_type": "stream",
     "text": [
      "('Yana',)\n",
      "('Yuri Dud',)\n",
      "('A. S. Pushkin',)\n",
      "('Opra Winfrey',)\n",
      "('Nastya',)\n",
      "('Margo',)\n"
     ]
    }
   ],
   "source": [
    "def reader_selecter():\n",
    "    connection = sqlite3.connect(\"lib\")\n",
    "    with connection:\n",
    "        for row in connection.execute(\"SELECT name FROM Reader\"):\n",
    "            print(row)\n",
    "\n",
    "reader_selecter()"
   ]
  },
  {
   "cell_type": "code",
   "execution_count": 19,
   "id": "0843bbc7",
   "metadata": {},
   "outputs": [],
   "source": [
    "def add_book(book_info):\n",
    "    connection = sqlite3.connect(\"lib\")\n",
    "    with connection:\n",
    "        connection.execute(\"INSERT OR IGNORE INTO Book VALUES(?, ?, ?, ?)\", book_info)\n",
    "        connection.commit()\n",
    "\n",
    "add_book((6, 'Мёртвые души', 'Н. В. Гоголь', 1842))\n",
    "add_book((7, 'Доктор Живаго', 'Б. Л. Пастернак', 1957)) # Лишняя книга "
   ]
  },
  {
   "cell_type": "code",
   "execution_count": 20,
   "id": "2167eeb7",
   "metadata": {},
   "outputs": [
    {
     "name": "stdout",
     "output_type": "stream",
     "text": [
      "('Доктор Живаго',)\n",
      "('Мёртвые души',)\n"
     ]
    }
   ],
   "source": [
    "book_selecter()"
   ]
  },
  {
   "cell_type": "code",
   "execution_count": 21,
   "id": "5a0e633e",
   "metadata": {},
   "outputs": [],
   "source": [
    "def delete_book(title):\n",
    "    connection = sqlite3.connect(\"lib\")\n",
    "    with connection:\n",
    "        connection.execute(\"DELETE FROM Book WHERE title=?\", (title,))\n",
    "        connection.commit()\n",
    "\n",
    "delete_book('Мёртвые души')"
   ]
  },
  {
   "cell_type": "code",
   "execution_count": 22,
   "id": "68ec4653",
   "metadata": {},
   "outputs": [
    {
     "name": "stdout",
     "output_type": "stream",
     "text": [
      "('Доктор Живаго',)\n"
     ]
    }
   ],
   "source": [
    "book_selecter()"
   ]
  },
  {
   "cell_type": "code",
   "execution_count": 23,
   "id": "2a4cb7fe",
   "metadata": {},
   "outputs": [],
   "source": [
    "def add_reader(reader_info):\n",
    "    connection = sqlite3.connect(\"lib\")\n",
    "    with connection:\n",
    "        connection.execute(\"INSERT OR IGNORE INTO Reader VALUES(?, ?)\", reader_info)\n",
    "        connection.commit()\n",
    "\n",
    "add_reader((6, 'Margo'))"
   ]
  },
  {
   "cell_type": "code",
   "execution_count": 24,
   "id": "38d97bc5",
   "metadata": {},
   "outputs": [
    {
     "name": "stdout",
     "output_type": "stream",
     "text": [
      "('Yana',)\n",
      "('Yuri Dud',)\n",
      "('A. S. Pushkin',)\n",
      "('Opra Winfrey',)\n",
      "('Nastya',)\n",
      "('Margo',)\n"
     ]
    }
   ],
   "source": [
    "reader_selecter()"
   ]
  },
  {
   "cell_type": "code",
   "execution_count": 25,
   "id": "81028a43",
   "metadata": {},
   "outputs": [
    {
     "name": "stdout",
     "output_type": "stream",
     "text": [
      "(1, 3, 4, '1842-02-14', '1842-07-01')\n",
      "(2, 4, 4, '1996-10-26', 'NULL')\n",
      "(3, 1, 2, '2006-06-13', '2006-06-14')\n",
      "(4, 1, 1, '2006-06-14', '2006-06-15')\n",
      "(5, 1, 3, '2006-06-15', '2006-07-20')\n",
      "(6, 2, 5, '1985-10-11', '1987-12-25')\n",
      "(7, 5, 3, '2001-03-15', 'NULL')\n",
      "(8, 5, 3, '2002-09-19', '2002-09-25')\n"
     ]
    }
   ],
   "source": [
    "def record_selecter():\n",
    "    connection = sqlite3.connect(\"lib\")\n",
    "    with connection:\n",
    "        for row in connection.execute(\"SELECT * FROM Records\"):\n",
    "            print(row)\n",
    "            \n",
    "record_selecter()"
   ]
  },
  {
   "cell_type": "code",
   "execution_count": null,
   "id": "9548b233",
   "metadata": {},
   "outputs": [],
   "source": []
  }
 ],
 "metadata": {
  "kernelspec": {
   "display_name": "Python 3 (ipykernel)",
   "language": "python",
   "name": "python3"
  },
  "language_info": {
   "codemirror_mode": {
    "name": "ipython",
    "version": 3
   },
   "file_extension": ".py",
   "mimetype": "text/x-python",
   "name": "python",
   "nbconvert_exporter": "python",
   "pygments_lexer": "ipython3",
   "version": "3.9.0"
  }
 },
 "nbformat": 4,
 "nbformat_minor": 5
}
