{
 "cells": [
  {
   "cell_type": "code",
   "execution_count": 41,
   "id": "shared-edward",
   "metadata": {},
   "outputs": [],
   "source": [
    "import numpy as np\n",
    "import pandas as pd"
   ]
  },
  {
   "cell_type": "markdown",
   "id": "naval-effort",
   "metadata": {},
   "source": [
    "## Задача 1."
   ]
  },
  {
   "cell_type": "markdown",
   "id": "automatic-switzerland",
   "metadata": {},
   "source": [
    "Вам на вход приходит большая матрица из целых чисел. Логически это карта. Каждый элемент матрицы - клеточка карты. Значение элемента - высота над уровнем моря в данной клеточке (если число положительное) или глубина моря (если число отрицательное). Размеры карты - до 1024 по каждой из сторон.\n",
    "\n",
    "Необходимо найти:\n",
    "\n",
    "1. общую площадь клеточек моря, в которых его глубина больше 5;\n",
    "2. общий объём всей воды на карте;\n",
    "3. максимальную высоту над уровнем моря, которая есть на этой карте."
   ]
  },
  {
   "cell_type": "code",
   "execution_count": 56,
   "id": "abroad-cable",
   "metadata": {},
   "outputs": [
    {
     "name": "stdout",
     "output_type": "stream",
     "text": [
      "4 6\n",
      " 1  4  4  2  1  1\n",
      " 0  0  1  0 -1 -1\n",
      "-2 -3 -1 -5 -6 -4\n",
      "-1 -3 -3 -4 -4 -2\n",
      "1\n",
      "40\n",
      "4\n"
     ]
    }
   ],
   "source": [
    "N, M = map(int, input().split())\n",
    "plan = [np.array((input().split()), dtype = int) for _ in range(N)]\n",
    "df = pd.DataFrame(plan)\n",
    "\n",
    "print(((df < -5).astype(int)).values.sum())\n",
    "print(int(df[df <= -1].fillna(0).values.sum())*(-1))\n",
    "print(df.values.max())"
   ]
  },
  {
   "cell_type": "markdown",
   "id": "qualified-benefit",
   "metadata": {},
   "source": [
    "## Задача 2."
   ]
  },
  {
   "cell_type": "markdown",
   "id": "technical-entertainment",
   "metadata": {},
   "source": [
    "Реализуйте одну очень странную нейросеть. Нейросеть должна:\n",
    "1. принимать на вход вектор признаков (чисел с плавающей точкой);\n",
    "2. в качестве первого преобразования умножать вектор признаков на матрицу весов A2 (на выходе получается новый вектор);\n",
    "3. в качестве второго преобразования умножать вектор, полученный на прошлом шаге, на вектор весов b (на выходе получается скалярное число).\n",
    "Размерности матриц и векторов - в пределах 1024."
   ]
  },
  {
   "cell_type": "code",
   "execution_count": 70,
   "id": "regulated-michigan",
   "metadata": {},
   "outputs": [
    {
     "name": "stdout",
     "output_type": "stream",
     "text": [
      "/Users/Liza/Desktop/A.txt\n",
      "/Users/Liza/Desktop/b.txt\n",
      "0.5 0.1 0.5\n",
      "0.0275\n"
     ]
    }
   ],
   "source": [
    "mat = input()\n",
    "col = input()\n",
    "X = input()\n",
    "with open(mat) as A, open(col) as b:\n",
    "    A = np.array([np.array((line.split()), dtype = float) for line in A])\n",
    "    b = np.array([np.array((line.split()), dtype = float) for line in b]).T\n",
    "    A2 = A @ A\n",
    "    X = np.array([np.array((X.split()), dtype = float)])\n",
    "    print(round((X @ A2 @ b)[0][0], 17))"
   ]
  },
  {
   "cell_type": "markdown",
   "id": "adequate-church",
   "metadata": {},
   "source": [
    "## Задача 3."
   ]
  },
  {
   "cell_type": "markdown",
   "id": "rotary-sheet",
   "metadata": {},
   "source": [
    "У вас есть данные по разным играм и тому, как их оценивают пользователи. По каждой игре известны название и студия-разработчик. Для каждой игры есть какое-то количество оценок (для разных игр оно разное).\n",
    "\n",
    "Требуется:\n",
    "\n",
    "1. найти 3 игры с самой высокой средней оценкой, вывести их названия и средние оценки в порядке убывания средней оценки;\n",
    "2. найти студию-разработчика, у которой максимальное количество игр с рейтингом выше 8.0, вывести название студии и количество таких игр у неё."
   ]
  },
  {
   "cell_type": "code",
   "execution_count": 105,
   "id": "collectible-soviet",
   "metadata": {},
   "outputs": [
    {
     "name": "stdout",
     "output_type": "stream",
     "text": [
      "           name  mean_rating\n",
      "Darkest Dungeon        9.000\n",
      "         XCOM 2        8.867\n",
      " Civilization V        8.333\n",
      "company  rating_sum\n",
      "Firaxis        17.2\n"
     ]
    }
   ],
   "source": [
    "games = pd.read_csv('/Users/Liza/Desktop/games.csv', sep=';')\n",
    "rates =  pd.read_csv('/Users/Liza/Desktop/rates.csv', sep=';')\n",
    "\n",
    "df = games.copy() \n",
    "\n",
    "df['mean_rating'] = [round(rates[(rates['id'] == id)]['mark'].mean(), 3) for id in df['id']]\n",
    "df1 = df.sort_values(by ='mean_rating', ascending=False).iloc[0:3][['name', 'mean_rating']].to_string(index=False)\n",
    "print(df1)\n",
    "\n",
    "df['rating_sum'] = [df[df['company'] == company]['mean_rating'].sum() for company in df['company']]\n",
    "df2 = df.sort_values(by ='rating_sum', ascending=False).iloc[0:1][['company', 'rating_sum']].to_string(index=False)\n",
    "print(df2)"
   ]
  },
  {
   "cell_type": "code",
   "execution_count": null,
   "id": "fiscal-zimbabwe",
   "metadata": {},
   "outputs": [],
   "source": []
  }
 ],
 "metadata": {
  "kernelspec": {
   "display_name": "Python 3",
   "language": "python",
   "name": "python3"
  },
  "language_info": {
   "codemirror_mode": {
    "name": "ipython",
    "version": 3
   },
   "file_extension": ".py",
   "mimetype": "text/x-python",
   "name": "python",
   "nbconvert_exporter": "python",
   "pygments_lexer": "ipython3",
   "version": "3.9.0"
  }
 },
 "nbformat": 4,
 "nbformat_minor": 5
}
